{
 "cells": [
  {
   "cell_type": "markdown",
   "metadata": {},
   "source": [
    "### Introduction to Nilearn and image manipulation\n",
    "\n",
    "The goal of this notebook is to help get you comfortable with manipulating functional and anatomical images using nilearn. We'll be using the techniques we learned here in our final analysis...\n",
    "\n",
    "#### Content:\n",
    "1. Basic Image Operations and Masking\n",
    "2. Resampling data to work across modalities (T1/FUNC)"
   ]
  },
  {
   "cell_type": "code",
   "execution_count": null,
   "metadata": {
    "collapsed": true
   },
   "outputs": [],
   "source": [
    "import os\n",
    "import matplotlib.pyplot as plt #to enable plotting within notebook\n",
    "from nilearn import image as img\n",
    "from nilearn import plotting as plot"
   ]
  },
  {
   "cell_type": "code",
   "execution_count": null,
   "metadata": {
    "collapsed": true
   },
   "outputs": [],
   "source": [
    "#magic function to view matplotlib images in notebook\n",
    "%matplotlib inline "
   ]
  },
  {
   "cell_type": "markdown",
   "metadata": {},
   "source": [
    "Let's grab some sample images from fmriprep"
   ]
  },
  {
   "cell_type": "code",
   "execution_count": null,
   "metadata": {
    "collapsed": true
   },
   "outputs": [],
   "source": [
    "#Base directory for fmriprep output\n",
    "fmriprep_dir = '../data/{mod}/'\n",
    "t1_dir = fmriprep_dir.format(mod='anat') \n",
    "func_dir = fmriprep_dir.format(mod='func')"
   ]
  },
  {
   "cell_type": "code",
   "execution_count": null,
   "metadata": {},
   "outputs": [],
   "source": [
    "#Display files inside of anatomy folder \n",
    "os.listdir(t1_dir) "
   ]
  },
  {
   "cell_type": "markdown",
   "metadata": {},
   "source": [
    "### Warming up with Nilearn "
   ]
  },
  {
   "cell_type": "markdown",
   "metadata": {},
   "source": [
    "#### Basic Image operations\n",
    "Here we show how easy it is to apply a mask to nifti images using nilearn. \n",
    "We first pick an example T1 image and mask from the fmriprep output, then we apply the mask and view the result..."
   ]
  },
  {
   "cell_type": "code",
   "execution_count": null,
   "metadata": {
    "collapsed": true
   },
   "outputs": [],
   "source": [
    "#How does nilearn deal with images\n",
    "ex_T1 = os.path.join(t1_dir,'sub-10206_T1w_preproc.nii.gz')\n",
    "ex_bm = os.path.join(t1_dir,'sub-10206_T1w_brainmask.nii.gz')"
   ]
  },
  {
   "cell_type": "code",
   "execution_count": null,
   "metadata": {},
   "outputs": [],
   "source": [
    "#Viewing T1\n",
    "plot.plot_anat(ex_T1)"
   ]
  },
  {
   "cell_type": "markdown",
   "metadata": {},
   "source": [
    "Nilearn uses nibabel under the hood to store nifti images. So you can think of images (similar to nibabel) as a 3D array (volume) with values assigned to each (x,y,z) coordinate. With 3D arrays we can perform operations and nilearn makes simple\n",
    "\n",
    "Say we wanted to invert a T1 image, that is flip the colorscale. We could do this as follows:"
   ]
  },
  {
   "cell_type": "code",
   "execution_count": null,
   "metadata": {
    "scrolled": true
   },
   "outputs": [],
   "source": [
    "#Inverting a T1 image example\n",
    "invert_img = img.math_img('1-a',a=ex_T1)\n",
    "plot.plot_anat(invert_img) "
   ]
  },
  {
   "cell_type": "markdown",
   "metadata": {},
   "source": [
    "Now we could use a similar technique to apply a mask. \n",
    "A mask is simply a 3D volume with 0's and 1's. The 1's indicate the areas in which areas are to be preserved. "
   ]
  },
  {
   "cell_type": "code",
   "execution_count": null,
   "metadata": {},
   "outputs": [],
   "source": [
    "#Viewing mask\n",
    "plot.plot_anat(ex_bm) "
   ]
  },
  {
   "cell_type": "markdown",
   "metadata": {},
   "source": [
    "The idea behind applying a mask is multiplying the mask directly by the image in an element-wise fashion. \n",
    "The end result is that all voxels (x,y,z) in the T1 image corresponding with a 1 in the mask with the same coordinate (x,y,z) is preserved. Everything else is put to 0."
   ]
  },
  {
   "cell_type": "code",
   "execution_count": null,
   "metadata": {},
   "outputs": [],
   "source": [
    "#Applying a mask is as easy as using the straight formula\n",
    "masked_t1 = img.math_img('a*b',a=ex_T1,b=ex_bm)\n",
    "plot.plot_anat(masked_t1)"
   ]
  },
  {
   "cell_type": "markdown",
   "metadata": {},
   "source": [
    "**Exercise** \n",
    "\n",
    "Try applying the mask but getting everything but the brain!"
   ]
  },
  {
   "cell_type": "code",
   "execution_count": null,
   "metadata": {
    "scrolled": true
   },
   "outputs": [],
   "source": [
    "#Solution\n",
    "inverted_mask_t1 = img.math_img('a*(1-b)',a=ex_T1,b=ex_bm)\n",
    "plot.plot_anat(inverted_mask_t1) "
   ]
  },
  {
   "cell_type": "markdown",
   "metadata": {},
   "source": [
    "#### Resampling\n",
    "Recall from our nibabel exploration of neuroimaging data:\n",
    "\n",
    "- T1 images are typically composed of voxels that are 1x1x1 in dimension\n",
    "- Functional images are typically composed of voxels that are 2x2x2 in dimension\n",
    "\n",
    "If we'd like to overlay our functional on top of our T1 (for visualization purposes, or analyses), then we need to match the size of the voxels! \n",
    "\n",
    "Think of this like trying to overlay a 10x10 JPEG and a 20x20 JPEG on top of each other. To get perfect overlay we need to resize (or more accurately *resample*) our JPEGs to match!\n",
    "\n",
    "**Note**: \n",
    "Resampling is a method of interpolating in between data-points. When we stretch an image we need to figure out what goes in the spaces that are created via stretching - resampling does just that. In fact, resizing any type of image is actually just resampling to new dimensions. "
   ]
  },
  {
   "cell_type": "markdown",
   "metadata": {},
   "source": [
    "Let's resampling some MRI data using nilearn. \n",
    "\n",
    "**Goal**: Match the dimensions of the structural image to that of the functional image"
   ]
  },
  {
   "cell_type": "code",
   "execution_count": null,
   "metadata": {
    "collapsed": true
   },
   "outputs": [],
   "source": [
    "#Files we'll be using (Notice that we're using _space-MNI..._ which means they are normalized brains)\n",
    "ex_mni_T1 = os.path.join(t1_dir,'sub-10206_T1w_space-MNI152NLin2009cAsym_preproc.nii.gz')\n",
    "ex_mni_FUNC = os.path.join(func_dir,'sub-10206_task-rest_bold_space-MNI152NLin2009cAsym_preproc.nii.gz')"
   ]
  },
  {
   "cell_type": "markdown",
   "metadata": {},
   "source": [
    "Note below that when we load an image, it reads in as a nibabel image. \n",
    "Meaning we can use the same utilities we used in nibabel on this data!"
   ]
  },
  {
   "cell_type": "code",
   "execution_count": null,
   "metadata": {},
   "outputs": [],
   "source": [
    "t1 = img.load_img(ex_mni_T1)\n",
    "func = img.load_img(ex_mni_FUNC)\n",
    "print(type(t1))"
   ]
  },
  {
   "cell_type": "markdown",
   "metadata": {},
   "source": [
    "Now we demonstrate our problem with the dimensions of the image not matching"
   ]
  },
  {
   "cell_type": "code",
   "execution_count": null,
   "metadata": {},
   "outputs": [],
   "source": [
    "print(t1.shape)\n",
    "print(func.shape)"
   ]
  },
  {
   "cell_type": "markdown",
   "metadata": {},
   "source": [
    "Resampling in nilearn is as easy as telling it which image you want to sample and what the target image is.\n",
    "Structure of function:\n",
    "\n",
    "img.resample_to_img(source_img,target_img,interpolation) \n",
    "- source_img = the image you want to sample\n",
    "- target_img = the image you wish to *resample to* \n",
    "- interpolation = the method of interpolation\n",
    "\n",
    "A note on **interpolation**\n",
    "\n",
    "nilearn supports 3 types of interpolation, the one you'll use depends on the type of data you're resampling!\n",
    "1. **continuous** - Interpolate but maintain some edge features.  Ideal for structural images where edges are well-defined. Uses $3^\\text{rd}$-order spline interpolation.\n",
    "2. **linear (default)** - Interpolate uses a combination of neighbouring voxels - will blur. Uses trilinear interpolation.\n",
    "3. **nearest** - matches value of closest voxel (majority vote from neighbours). This is ideal for masks which are binary since it will preserve the 0's and 1's and will not produce in-between values (ex: 0.342). Also ideal for numeric labels where values are 0,1,2,3... (parcellations). Uses nearest-neighbours interpolation with majority vote.\n"
   ]
  },
  {
   "cell_type": "code",
   "execution_count": null,
   "metadata": {},
   "outputs": [],
   "source": [
    "#Try playing around with methods of interpolation\n",
    "#options: 'linear','continuous','nearest'\n",
    "resamp_t1 = img.resample_to_img(source_img=t1,target_img=func,interpolation='continuous')\n",
    "print(resamp_t1.shape)\n",
    "print(func.shape)\n",
    "plot.plot_anat(resamp_t1)"
   ]
  },
  {
   "cell_type": "markdown",
   "metadata": {},
   "source": [
    "**Exercise**\n",
    "\n",
    "Using **Native** T1 and **T1w** resting state functional do the following:\n",
    "1. Resample the native T1 image to resting state size\n",
    "2. Replace the brain in the T1 image with the first frame of the resting state brain"
   ]
  },
  {
   "cell_type": "code",
   "execution_count": null,
   "metadata": {
    "collapsed": true
   },
   "outputs": [],
   "source": [
    "#Files we'll need\n",
    "ex_T1 = os.path.join(t1_dir,'sub-10206_T1w_preproc.nii.gz')\n",
    "ex_t1_bm = os.path.join(t1_dir,'sub-10206_T1w_brainmask.nii.gz')\n",
    "ex_func = os.path.join(func_dir,'sub-10206_task-rest_bold_space-T1w_preproc.nii.gz')\n",
    "ex_func_bm = os.path.join(func_dir,'sub-10206_task-rest_bold_space-T1w_brainmask.nii.gz')"
   ]
  },
  {
   "cell_type": "code",
   "execution_count": null,
   "metadata": {
    "collapsed": true
   },
   "outputs": [],
   "source": [
    "#Step 1: Resample T1 --> Resting state\n",
    "resamp_t1 = img.resample_to_img(source_img=ex_T1,target_img=ex_func,interpolation='continuous') \n",
    "\n",
    "#Step 2: We need to resample the mask as well!\n",
    "resamp_bm = img.resample_to_img(source_img=ex_bm,target_img=resamp_t1,interpolation='nearest')\n",
    "\n",
    "#Step 3: Mask out the T1 image\n",
    "removed_t1 = img.math_img('a*(1-b)',a=resamp_t1,b=resamp_bm)"
   ]
  },
  {
   "cell_type": "code",
   "execution_count": null,
   "metadata": {},
   "outputs": [],
   "source": [
    "#Visualize resampled and removed brain\n",
    "plot.plot_anat(removed_t1)"
   ]
  },
  {
   "cell_type": "code",
   "execution_count": null,
   "metadata": {},
   "outputs": [],
   "source": [
    "#Step 4: Load in the first frame of the resting state image\n",
    "func_img = img.load_img(ex_func) \n",
    "first_func_img = func_img.slicer[:,:,:,0]\n",
    "\n",
    "#Step 5: Mask the functional image and visualize\n",
    "masked_func = img.math_img('a*b',a=first_func_img,b=ex_func_bm)\n",
    "plot.plot_img(masked_func)"
   ]
  },
  {
   "cell_type": "code",
   "execution_count": null,
   "metadata": {},
   "outputs": [],
   "source": [
    "#Now overlay the functional image on top of the anatomical\n",
    "combined_img = img.math_img('a+b',a=removed_t1,b=masked_func)\n",
    "plot.plot_anat(combined_img)"
   ]
  },
  {
   "cell_type": "markdown",
   "metadata": {},
   "source": [
    "### Finished!\n",
    "Hopefully you've gained some intuition and comfort in dealing with MRI images using nilearn/nibabel. \n",
    "\n",
    "Now we'll take what we've used here, add some additional features and perform a full analysis on a dataset"
   ]
  }
 ],
 "metadata": {
  "kernelspec": {
   "display_name": "Python 3",
   "language": "python",
   "name": "python3"
  },
  "language_info": {
   "codemirror_mode": {
    "name": "ipython",
    "version": 3
   },
   "file_extension": ".py",
   "mimetype": "text/x-python",
   "name": "python",
   "nbconvert_exporter": "python",
   "pygments_lexer": "ipython3",
   "version": "3.7.0"
  }
 },
 "nbformat": 4,
 "nbformat_minor": 2
}
