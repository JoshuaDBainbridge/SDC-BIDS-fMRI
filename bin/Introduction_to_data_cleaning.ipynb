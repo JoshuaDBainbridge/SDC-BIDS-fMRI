{
 "cells": [
  {
   "cell_type": "markdown",
   "metadata": {
    "collapsed": true
   },
   "source": [
    "# Introduction to functional data cleaning using nilearn"
   ]
  },
  {
   "cell_type": "markdown",
   "metadata": {},
   "source": [
    "### Movement is the enemy of neuroimagers\n",
    "\n",
    "In task-based fMRI, if participants move during task-relevant moments\n",
    "- Get a huge **false task-related signal** that’s actually due to motion!\n",
    "\n",
    "In resting-state fMRI, movement can induce **false correlations** between brain regions\n",
    "\n",
    "\n",
    "Solving for this involves *modelling* our fMRI signal to be comprised of **true brain signal** and **confounder signals**. \n",
    "\n",
    "\n",
    "Our goal is to remove a majority (hopefully) of the **confounder signals** and acquire something *closer* to the **true signal**. \n",
    "\n",
    "This is achieved via **confound regression**, which is essentially fitting a linear model using confounds as regressors then subtracting it out from the signal\n"
   ]
  },
  {
   "cell_type": "markdown",
   "metadata": {},
   "source": [
    "*****"
   ]
  },
  {
   "cell_type": "code",
   "execution_count": null,
   "metadata": {
    "collapsed": true
   },
   "outputs": [],
   "source": [
    "import os\n",
    "from nilearn import image as img\n",
    "from nilearn import plotting as plot\n",
    "import matplotlib.pyplot as plt\n",
    "%matplotlib inline"
   ]
  },
  {
   "cell_type": "markdown",
   "metadata": {},
   "source": [
    "## Step 1: Implementing Confound Regression using FMRIPREP outputs\n",
    "FMRIPREP estimates confounds for the functional image and outputs it into:\n",
    "\n",
    "**sub-xxxxx_task-xxxx_space-xxxx_..._confounds.tsv**\n",
    "\n",
    "Let's load one up and see what it looks like"
   ]
  },
  {
   "cell_type": "code",
   "execution_count": null,
   "metadata": {},
   "outputs": [],
   "source": [
    "func_dir = '../data/func/'\n",
    "os.listdir(func_dir)"
   ]
  },
  {
   "cell_type": "markdown",
   "metadata": {},
   "source": [
    "The confounds file is organized like an excel spread-sheet with multiple columns, each for a specific confound.\n",
    "\n",
    "We can view these using pandas "
   ]
  },
  {
   "cell_type": "code",
   "execution_count": null,
   "metadata": {
    "collapsed": true
   },
   "outputs": [],
   "source": [
    "import pandas as pd"
   ]
  },
  {
   "cell_type": "code",
   "execution_count": null,
   "metadata": {},
   "outputs": [],
   "source": [
    "confound = os.path.join(func_dir,\n",
    "                        'sub-10206_task-rest_bold_confounds.tsv'\n",
    "                        )\n",
    "confound_df = pd.read_csv(confound,delimiter='\\t')"
   ]
  },
  {
   "cell_type": "code",
   "execution_count": null,
   "metadata": {},
   "outputs": [],
   "source": [
    "confound_df.head()"
   ]
  },
  {
   "cell_type": "markdown",
   "metadata": {},
   "source": [
    "Each of these confounds is computed automatically by fmriprep. The choice of which confounds to use in functional imaging analysis is a source of large debate. We recommend that you check out these sources for a start:\n",
    "\n",
    "1. https://www.sciencedirect.com/science/article/pii/S1053811917302288#f0005\n",
    "2. https://www.sciencedirect.com/science/article/pii/S1053811917302288\n",
    "\n",
    "For now we're going to replicate the pre-processing (mostly) from the seminal Yeo1000 17-networks paper:\n",
    "\n",
    "https://www.ncbi.nlm.nih.gov/pubmed/21653723"
   ]
  },
  {
   "cell_type": "markdown",
   "metadata": {},
   "source": [
    "### The Full Yeo 2011 Pre-processing schema\n",
    "\n",
    "#### Confound regressors\n",
    "1. 6 motion parameters (X, Y, Z, RotX, RotY, RotZ) \n",
    "2. Global signal \n",
    "3. White matter signal\n",
    "4. CSF Signal\n",
    "\n",
    "This is a total of 9 base confound regressor variables. Finally adds temporal derivatives of each of these signals as well (1 temporal derivative for each), the result is 18 confound regressors.\n",
    "\n",
    "#### Low/High pass filtering\n",
    "1. Low pass filtering cutoff: 0.08 \n",
    "2. High pass filtering cutoff: 0.009\n",
    "\n",
    "Low pass filters out high frequency signals from our data. fMRI signals are slow evolving processes, any high frequency signals are likely due to noise \n",
    "High pass filters out any very low frequency signals (below 0.009Hz), which may be due to intrinsic scanner instabilities\n",
    "\n",
    "#### Drop dummy TRs\n",
    "During the initial stages of a functional scan there is a strong signal decay artifact, thus the first 4ish or so \n",
    "TRs are very high intensity signals that don't reflect the rest of the scan. Therefore we drop these TRs. "
   ]
  },
  {
   "cell_type": "code",
   "execution_count": null,
   "metadata": {
    "collapsed": true
   },
   "outputs": [],
   "source": []
  }
 ],
 "metadata": {
  "kernelspec": {
   "display_name": "Python [default]",
   "language": "python",
   "name": "python3"
  },
  "language_info": {
   "codemirror_mode": {
    "name": "ipython",
    "version": 3
   },
   "file_extension": ".py",
   "mimetype": "text/x-python",
   "name": "python",
   "nbconvert_exporter": "python",
   "pygments_lexer": "ipython3",
   "version": "3.6.2"
  }
 },
 "nbformat": 4,
 "nbformat_minor": 2
}
