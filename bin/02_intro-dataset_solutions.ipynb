{
 "cells": [
  {
   "cell_type": "markdown",
   "metadata": {},
   "source": [
    "### Tutorial Dataset"
   ]
  },
  {
   "cell_type": "markdown",
   "metadata": {},
   "source": [
    "For this tutorial, we will be using a subset of a pubicly available dataset, ds000030, from [openneuro.org](https://openneuro.org/datasets/ds000030). The dataset is structured according to the Brain Imaging Data Structure (BIDS). BIDS is a simple and intuitive way to organize and describe your neuroimaging and behavioural data. Neuroimaging experiments result in complicated data that can be arranged in several different ways. BIDS tackles this problem by suggesting a new standard (based on consensus from multiple researchers across the world) for the arrangement of neuroimaging datasets.\n",
    "\n",
    "Using the same structure for all of your studies will allow you to easily reuse all of your scripts between studies. Additionally, sharing code with other researchers will be much easier.\n",
    "\n",
    "Let's take a look at the `participants.tsv` file to see what the demographics for this dataset look like."
   ]
  },
  {
   "cell_type": "code",
   "execution_count": null,
   "metadata": {},
   "outputs": [],
   "source": [
    "import pandas as pd"
   ]
  },
  {
   "cell_type": "code",
   "execution_count": null,
   "metadata": {},
   "outputs": [],
   "source": [
    "participant_metadata = pd.read_csv('../data/ds000030/participants.tsv', sep='\\t')\n",
    "participant_metadata"
   ]
  },
  {
   "cell_type": "markdown",
   "metadata": {},
   "source": [
    "<b>EXERCISE:</b> Which diagnosis-related groups make up the dataset?"
   ]
  },
  {
   "cell_type": "code",
   "execution_count": null,
   "metadata": {},
   "outputs": [],
   "source": [
    "participant_metadata.diagnosis.unique()"
   ]
  },
  {
   "cell_type": "markdown",
   "metadata": {},
   "source": [
    "For this tutorial, we're just going to work with participants that are either CONTROL or SCHZ (`diagnosis`) and have both a T1w (`T1w == 1`) and rest (`rest == 1`) scan. Also, you'll notice some of the T1w scans included in this dataset have a ghosting artifact. We'll need to filter these out as well (`ghost_NoGhost == 'No_ghost'`)."
   ]
  },
  {
   "cell_type": "markdown",
   "metadata": {},
   "source": [
    "<b>EXERCISE:</b> Filter <code>participant_metadata</code> so that only the above conditions are present."
   ]
  },
  {
   "cell_type": "code",
   "execution_count": null,
   "metadata": {},
   "outputs": [],
   "source": [
    "participant_metadata = participant_metadata[(participant_metadata.diagnosis.isin(['CONTROL', 'SCHZ'])) & \n",
    "                                            (participant_metadata.T1w == 1) & \n",
    "                                            (participant_metadata.rest == 1) & \n",
    "                                            (participant_metadata.ghost_NoGhost == 'No_ghost')]\n",
    "participant_metadata"
   ]
  },
  {
   "cell_type": "markdown",
   "metadata": {},
   "source": [
    "To ease the analysis and quicken the amount of time required to download the data, we're just going to use scans from 10 randomly sampled CONTROL and 10 SCHZ participants."
   ]
  },
  {
   "cell_type": "code",
   "execution_count": null,
   "metadata": {},
   "outputs": [],
   "source": [
    "diagnosis_groups = participant_metadata.groupby('diagnosis')\n",
    "filtered_participant_metadata = diagnosis_groups.apply(lambda x: x.sample(n = 10))\n",
    "filtered_participant_metadata"
   ]
  },
  {
   "cell_type": "code",
   "execution_count": null,
   "metadata": {},
   "outputs": [],
   "source": [
    "participant_list = filtered_participant_metadata.participant_id.tolist()\n",
    "participant_list"
   ]
  },
  {
   "cell_type": "markdown",
   "metadata": {},
   "source": [
    "### Downloading Data"
   ]
  },
  {
   "cell_type": "markdown",
   "metadata": {},
   "source": [
    "We've already randomly sampled 10 CONTROL and 10 SCHZ participants and placed the participant list in the `../download_list` text file. Let's download that data now."
   ]
  },
  {
   "cell_type": "code",
   "execution_count": 2,
   "metadata": {},
   "outputs": [
    {
     "name": "stdout",
     "output_type": "stream",
     "text": [
      "/home/jerry/projects/workshops/scwg2018_python_neuroimaging/bin\r\n"
     ]
    }
   ],
   "source": [
    "!echo $(pwd)"
   ]
  },
  {
   "cell_type": "code",
   "execution_count": 12,
   "metadata": {},
   "outputs": [
    {
     "name": "stdout",
     "output_type": "stream",
     "text": [
      "                           PRE sub-10159/\r\n",
      "                           PRE sub-10171/\r\n",
      "                           PRE sub-10189/\r\n",
      "                           PRE sub-10193/\r\n",
      "                           PRE sub-10206/\r\n",
      "                           PRE sub-10217/\r\n",
      "                           PRE sub-10225/\r\n",
      "                           PRE sub-10227/\r\n",
      "                           PRE sub-10228/\r\n",
      "                           PRE sub-10235/\r\n",
      "                           PRE sub-10249/\r\n",
      "                           PRE sub-10269/\r\n",
      "                           PRE sub-10271/\r\n",
      "                           PRE sub-10273/\r\n",
      "                           PRE sub-10274/\r\n",
      "                           PRE sub-10280/\r\n",
      "                           PRE sub-10290/\r\n",
      "                           PRE sub-10292/\r\n",
      "                           PRE sub-10304/\r\n",
      "                           PRE sub-10316/\r\n",
      "                           PRE sub-10321/\r\n",
      "                           PRE sub-10325/\r\n",
      "                           PRE sub-10329/\r\n",
      "                           PRE sub-10339/\r\n",
      "                           PRE sub-10340/\r\n",
      "                           PRE sub-10345/\r\n",
      "                           PRE sub-10347/\r\n",
      "                           PRE sub-10356/\r\n",
      "                           PRE sub-10361/\r\n",
      "                           PRE sub-10365/\r\n",
      "                           PRE sub-10376/\r\n",
      "                           PRE sub-10377/\r\n",
      "                           PRE sub-10388/\r\n",
      "                           PRE sub-10429/\r\n",
      "                           PRE sub-10438/\r\n",
      "                           PRE sub-10440/\r\n",
      "                           PRE sub-10448/\r\n",
      "                           PRE sub-10455/\r\n",
      "                           PRE sub-10460/\r\n",
      "                           PRE sub-10471/\r\n",
      "                           PRE sub-10478/\r\n",
      "                           PRE sub-10487/\r\n",
      "                           PRE sub-10492/\r\n",
      "                           PRE sub-10506/\r\n",
      "                           PRE sub-10517/\r\n",
      "                           PRE sub-10523/\r\n",
      "                           PRE sub-10524/\r\n",
      "                           PRE sub-10525/\r\n",
      "                           PRE sub-10527/\r\n",
      "                           PRE sub-10530/\r\n",
      "                           PRE sub-10557/\r\n",
      "                           PRE sub-10565/\r\n",
      "                           PRE sub-10570/\r\n",
      "                           PRE sub-10575/\r\n",
      "                           PRE sub-10624/\r\n",
      "                           PRE sub-10629/\r\n",
      "                           PRE sub-10631/\r\n",
      "                           PRE sub-10638/\r\n",
      "                           PRE sub-10668/\r\n",
      "                           PRE sub-10672/\r\n",
      "                           PRE sub-10674/\r\n",
      "                           PRE sub-10678/\r\n",
      "                           PRE sub-10680/\r\n",
      "                           PRE sub-10686/\r\n",
      "                           PRE sub-10692/\r\n",
      "                           PRE sub-10696/\r\n",
      "                           PRE sub-10697/\r\n",
      "                           PRE sub-10704/\r\n",
      "                           PRE sub-10707/\r\n",
      "                           PRE sub-10708/\r\n",
      "                           PRE sub-10719/\r\n",
      "                           PRE sub-10724/\r\n",
      "                           PRE sub-10746/\r\n",
      "                           PRE sub-10762/\r\n",
      "                           PRE sub-10779/\r\n",
      "                           PRE sub-10785/\r\n",
      "                           PRE sub-10788/\r\n",
      "                           PRE sub-10844/\r\n",
      "                           PRE sub-10855/\r\n",
      "                           PRE sub-10871/\r\n",
      "                           PRE sub-10877/\r\n",
      "                           PRE sub-10882/\r\n",
      "                           PRE sub-10891/\r\n",
      "                           PRE sub-10893/\r\n",
      "                           PRE sub-10912/\r\n",
      "                           PRE sub-10934/\r\n",
      "                           PRE sub-10940/\r\n",
      "                           PRE sub-10948/\r\n",
      "                           PRE sub-10949/\r\n",
      "                           PRE sub-10958/\r\n",
      "                           PRE sub-10963/\r\n",
      "                           PRE sub-10968/\r\n",
      "                           PRE sub-10975/\r\n",
      "                           PRE sub-10977/\r\n",
      "                           PRE sub-10987/\r\n",
      "                           PRE sub-10998/\r\n",
      "                           PRE sub-11019/\r\n",
      "                           PRE sub-11030/\r\n",
      "                           PRE sub-11044/\r\n",
      "                           PRE sub-11050/\r\n",
      "                           PRE sub-11052/\r\n",
      "                           PRE sub-11059/\r\n",
      "                           PRE sub-11061/\r\n",
      "                           PRE sub-11062/\r\n",
      "                           PRE sub-11066/\r\n",
      "                           PRE sub-11067/\r\n",
      "                           PRE sub-11068/\r\n",
      "                           PRE sub-11077/\r\n",
      "                           PRE sub-11082/\r\n",
      "                           PRE sub-11088/\r\n",
      "                           PRE sub-11090/\r\n",
      "                           PRE sub-11097/\r\n",
      "                           PRE sub-11098/\r\n",
      "                           PRE sub-11104/\r\n",
      "                           PRE sub-11105/\r\n",
      "                           PRE sub-11106/\r\n",
      "                           PRE sub-11108/\r\n",
      "                           PRE sub-11112/\r\n",
      "                           PRE sub-11122/\r\n",
      "                           PRE sub-11128/\r\n",
      "                           PRE sub-11131/\r\n",
      "                           PRE sub-11142/\r\n",
      "                           PRE sub-11143/\r\n",
      "                           PRE sub-11149/\r\n",
      "                           PRE sub-11156/\r\n",
      "                           PRE sub-50004/\r\n",
      "                           PRE sub-50005/\r\n",
      "                           PRE sub-50006/\r\n",
      "                           PRE sub-50007/\r\n",
      "                           PRE sub-50008/\r\n",
      "                           PRE sub-50010/\r\n",
      "                           PRE sub-50013/\r\n",
      "                           PRE sub-50014/\r\n",
      "                           PRE sub-50015/\r\n",
      "                           PRE sub-50016/\r\n",
      "                           PRE sub-50020/\r\n",
      "                           PRE sub-50021/\r\n",
      "                           PRE sub-50022/\r\n",
      "                           PRE sub-50023/\r\n",
      "                           PRE sub-50025/\r\n",
      "                           PRE sub-50027/\r\n",
      "                           PRE sub-50029/\r\n",
      "                           PRE sub-50032/\r\n",
      "                           PRE sub-50033/\r\n",
      "                           PRE sub-50034/\r\n",
      "                           PRE sub-50035/\r\n",
      "                           PRE sub-50036/\r\n",
      "                           PRE sub-50038/\r\n",
      "                           PRE sub-50043/\r\n",
      "                           PRE sub-50047/\r\n",
      "                           PRE sub-50048/\r\n",
      "                           PRE sub-50049/\r\n",
      "                           PRE sub-50050/\r\n",
      "                           PRE sub-50051/\r\n",
      "                           PRE sub-50052/\r\n",
      "                           PRE sub-50053/\r\n",
      "                           PRE sub-50054/\r\n",
      "                           PRE sub-50055/\r\n",
      "                           PRE sub-50056/\r\n",
      "                           PRE sub-50058/\r\n",
      "                           PRE sub-50059/\r\n",
      "                           PRE sub-50060/\r\n",
      "                           PRE sub-50061/\r\n",
      "                           PRE sub-50064/\r\n",
      "                           PRE sub-50066/\r\n",
      "                           PRE sub-50067/\r\n",
      "                           PRE sub-50069/\r\n",
      "                           PRE sub-50073/\r\n",
      "                           PRE sub-50075/\r\n",
      "                           PRE sub-50076/\r\n",
      "                           PRE sub-50077/\r\n",
      "                           PRE sub-50080/\r\n",
      "                           PRE sub-50081/\r\n",
      "                           PRE sub-50083/\r\n",
      "                           PRE sub-50085/\r\n",
      "                           PRE sub-60001/\r\n",
      "                           PRE sub-60005/\r\n",
      "                           PRE sub-60006/\r\n",
      "                           PRE sub-60008/\r\n",
      "                           PRE sub-60010/\r\n",
      "                           PRE sub-60011/\r\n",
      "                           PRE sub-60012/\r\n",
      "                           PRE sub-60014/\r\n",
      "                           PRE sub-60015/\r\n",
      "                           PRE sub-60016/\r\n",
      "                           PRE sub-60017/\r\n",
      "                           PRE sub-60020/\r\n",
      "                           PRE sub-60021/\r\n",
      "                           PRE sub-60022/\r\n",
      "                           PRE sub-60028/\r\n",
      "                           PRE sub-60030/\r\n",
      "                           PRE sub-60033/\r\n",
      "                           PRE sub-60036/\r\n",
      "                           PRE sub-60037/\r\n",
      "                           PRE sub-60038/\r\n",
      "                           PRE sub-60042/\r\n",
      "                           PRE sub-60043/\r\n",
      "                           PRE sub-60045/\r\n",
      "                           PRE sub-60046/\r\n",
      "                           PRE sub-60048/\r\n",
      "                           PRE sub-60049/\r\n",
      "                           PRE sub-60051/\r\n",
      "                           PRE sub-60052/\r\n",
      "                           PRE sub-60053/\r\n",
      "                           PRE sub-60055/\r\n",
      "                           PRE sub-60056/\r\n",
      "                           PRE sub-60057/\r\n",
      "                           PRE sub-60060/\r\n",
      "                           PRE sub-60062/\r\n",
      "                           PRE sub-60065/\r\n",
      "                           PRE sub-60066/\r\n",
      "                           PRE sub-60068/\r\n",
      "                           PRE sub-60070/\r\n",
      "                           PRE sub-60072/\r\n",
      "                           PRE sub-60073/\r\n",
      "                           PRE sub-60074/\r\n",
      "                           PRE sub-60076/\r\n",
      "                           PRE sub-60077/\r\n",
      "                           PRE sub-60078/\r\n",
      "                           PRE sub-60079/\r\n",
      "                           PRE sub-60080/\r\n",
      "                           PRE sub-60084/\r\n",
      "                           PRE sub-60087/\r\n",
      "                           PRE sub-60089/\r\n",
      "                           PRE sub-70001/\r\n",
      "                           PRE sub-70002/\r\n",
      "                           PRE sub-70004/\r\n",
      "                           PRE sub-70007/\r\n",
      "                           PRE sub-70010/\r\n",
      "                           PRE sub-70015/\r\n",
      "                           PRE sub-70017/\r\n",
      "                           PRE sub-70020/\r\n",
      "                           PRE sub-70021/\r\n",
      "                           PRE sub-70022/\r\n",
      "                           PRE sub-70026/\r\n",
      "                           PRE sub-70029/\r\n",
      "                           PRE sub-70033/\r\n",
      "                           PRE sub-70034/\r\n",
      "                           PRE sub-70037/\r\n",
      "                           PRE sub-70040/\r\n",
      "                           PRE sub-70046/\r\n",
      "                           PRE sub-70048/\r\n",
      "                           PRE sub-70049/\r\n",
      "                           PRE sub-70051/\r\n",
      "                           PRE sub-70052/\r\n",
      "                           PRE sub-70055/\r\n",
      "                           PRE sub-70057/\r\n",
      "                           PRE sub-70058/\r\n",
      "                           PRE sub-70060/\r\n",
      "                           PRE sub-70061/\r\n",
      "                           PRE sub-70065/\r\n",
      "                           PRE sub-70068/\r\n",
      "                           PRE sub-70069/\r\n",
      "                           PRE sub-70070/\r\n",
      "                           PRE sub-70072/\r\n",
      "                           PRE sub-70073/\r\n",
      "                           PRE sub-70074/\r\n",
      "                           PRE sub-70075/\r\n",
      "                           PRE sub-70076/\r\n",
      "                           PRE sub-70077/\r\n",
      "                           PRE sub-70079/\r\n",
      "                           PRE sub-70080/\r\n",
      "                           PRE sub-70081/\r\n",
      "                           PRE sub-70083/\r\n",
      "                           PRE sub-70086/\r\n",
      "                           PRE submission_scripts/\r\n",
      "2017-11-18 04:57:50       6901 index.html\r\n",
      "2017-11-18 04:57:50   15055201 sub-10159.html\r\n",
      "2017-11-18 04:57:51   18320495 sub-10171.html\r\n",
      "2017-11-18 04:57:53   15333798 sub-10189.html\r\n",
      "2017-11-18 04:57:55    6756378 sub-10193.html\r\n",
      "2017-11-18 04:57:56   16521837 sub-10206.html\r\n",
      "2017-11-18 04:57:57   14996394 sub-10217.html\r\n",
      "2017-11-18 04:57:59   18631330 sub-10225.html\r\n",
      "2017-11-18 04:58:01   15037261 sub-10227.html\r\n",
      "2017-11-18 04:58:03   16624917 sub-10228.html\r\n",
      "2017-11-18 04:58:05   16329645 sub-10235.html\r\n",
      "2017-11-18 04:58:06   18999951 sub-10249.html\r\n",
      "2017-11-18 04:58:08   20520542 sub-10269.html\r\n",
      "2017-11-18 04:58:10   17324955 sub-10271.html\r\n",
      "2017-11-18 04:58:12   17562845 sub-10273.html\r\n",
      "2017-11-18 04:58:13   15141434 sub-10274.html\r\n",
      "2017-11-18 04:58:14   18872816 sub-10280.html\r\n",
      "2017-11-18 04:58:16   17152228 sub-10290.html\r\n",
      "2017-11-18 04:58:18   17916429 sub-10292.html\r\n",
      "2017-11-18 04:58:19   18119433 sub-10304.html\r\n",
      "2017-11-18 04:58:21   19070766 sub-10316.html\r\n",
      "2017-11-18 04:58:23   16084822 sub-10321.html\r\n",
      "2017-11-18 04:58:25   16082745 sub-10325.html\r\n",
      "2017-11-18 04:58:26   18603402 sub-10329.html\r\n",
      "2017-11-18 04:58:28   15735559 sub-10339.html\r\n",
      "2017-11-18 04:58:29   19732457 sub-10340.html\r\n",
      "2017-11-18 04:58:31   16503789 sub-10345.html\r\n",
      "2017-11-18 04:58:33   17513083 sub-10347.html\r\n",
      "2017-11-18 04:58:34   16601697 sub-10356.html\r\n",
      "2017-11-18 04:58:36   17372493 sub-10361.html\r\n",
      "2017-11-18 04:58:38   18173044 sub-10365.html\r\n",
      "2017-11-18 04:58:39   18395937 sub-10376.html\r\n",
      "2017-11-18 04:58:41   21885294 sub-10377.html\r\n",
      "2017-11-18 04:58:43   16902112 sub-10388.html\r\n",
      "2017-11-18 04:58:44   17368333 sub-10429.html\r\n",
      "2017-11-18 04:58:46   18526394 sub-10438.html\r\n",
      "2017-11-18 04:58:48   17595096 sub-10440.html\r\n",
      "2017-11-18 04:58:49   18207174 sub-10448.html\r\n",
      "2017-11-18 04:58:51   18334067 sub-10455.html\r\n",
      "2017-11-18 04:58:52   18748401 sub-10460.html\r\n",
      "2017-11-18 04:58:54   16179720 sub-10471.html\r\n",
      "2017-11-18 04:58:55   17329755 sub-10478.html\r\n",
      "2017-11-18 04:58:57   19016605 sub-10487.html\r\n",
      "2017-11-18 04:58:58   17560663 sub-10492.html\r\n",
      "2017-11-18 04:59:00   23839151 sub-10506.html\r\n",
      "2017-11-18 04:59:02   23890078 sub-10517.html\r\n",
      "2017-11-18 04:59:03   23938857 sub-10523.html\r\n",
      "2017-11-18 04:59:05   21353476 sub-10524.html\r\n",
      "2017-11-18 04:59:07   23096811 sub-10525.html\r\n",
      "2017-11-18 04:59:09   22974989 sub-10527.html\r\n",
      "2017-11-18 04:59:10   22231559 sub-10530.html\r\n",
      "2017-11-18 04:59:12   23665259 sub-10557.html\r\n",
      "2017-11-18 04:59:14   21937709 sub-10565.html\r\n",
      "2017-11-18 04:59:16   23132416 sub-10570.html\r\n",
      "2017-11-18 04:59:18   23749678 sub-10575.html\r\n",
      "2017-11-18 04:59:19   24875228 sub-10624.html\r\n",
      "2017-11-18 04:59:21   24000083 sub-10629.html\r\n",
      "2017-11-18 04:59:23   21619283 sub-10631.html\r\n",
      "2017-11-18 04:59:25   22185953 sub-10638.html\r\n",
      "2017-11-18 04:59:26   22322656 sub-10668.html\r\n",
      "2017-11-18 04:59:28   20765354 sub-10672.html\r\n",
      "2017-11-18 04:59:29   22518172 sub-10674.html\r\n",
      "2017-11-18 04:59:31   23495125 sub-10678.html\r\n",
      "2017-11-18 04:59:33   22776928 sub-10680.html\r\n",
      "2017-11-18 04:59:34   20426113 sub-10686.html\r\n",
      "2017-11-18 04:59:36   21763108 sub-10692.html\r\n",
      "2017-11-18 04:59:38   21475190 sub-10696.html\r\n",
      "2017-11-18 04:59:39   22003849 sub-10697.html\r\n",
      "2017-11-18 04:59:41   22163430 sub-10704.html\r\n"
     ]
    },
    {
     "name": "stdout",
     "output_type": "stream",
     "text": [
      "2017-11-18 04:59:43   25873470 sub-10707.html\r\n",
      "2017-11-18 04:59:44   21858390 sub-10708.html\r\n",
      "2017-11-18 04:59:46   21792550 sub-10719.html\r\n",
      "2017-11-18 04:59:47   22127385 sub-10724.html\r\n",
      "2017-11-18 04:59:49   23482594 sub-10746.html\r\n",
      "2017-11-18 04:59:51   21321039 sub-10762.html\r\n",
      "2017-11-18 04:59:52   20522547 sub-10779.html\r\n",
      "2017-11-18 04:59:54   21092596 sub-10785.html\r\n",
      "2017-11-18 04:59:56   20722256 sub-10788.html\r\n",
      "2017-11-18 04:59:57   23838092 sub-10844.html\r\n",
      "2017-11-18 04:59:59   21921289 sub-10855.html\r\n",
      "2017-11-18 05:00:01   22978322 sub-10871.html\r\n",
      "2017-11-18 05:00:03   22821219 sub-10877.html\r\n",
      "2017-11-18 05:00:05   21855931 sub-10882.html\r\n",
      "2017-11-18 05:00:07   22277511 sub-10891.html\r\n",
      "2017-11-18 05:00:08   21128372 sub-10893.html\r\n",
      "2017-11-18 05:00:10   20581584 sub-10912.html\r\n",
      "2017-11-18 05:00:12   20633148 sub-10934.html\r\n",
      "2017-11-18 05:00:14   23469074 sub-10940.html\r\n",
      "2017-11-18 05:00:16   10982360 sub-10948.html\r\n",
      "2017-11-18 05:00:17   21967029 sub-10949.html\r\n",
      "2017-11-18 05:00:19   19055750 sub-10958.html\r\n",
      "2017-11-18 05:00:21   19957556 sub-10963.html\r\n",
      "2017-11-18 05:00:23   24209173 sub-10968.html\r\n",
      "2017-11-18 05:00:24   23078054 sub-10975.html\r\n",
      "2017-11-18 05:00:26   22597380 sub-10977.html\r\n",
      "2017-11-18 05:00:28   21729793 sub-10987.html\r\n",
      "2017-11-18 05:00:30   21338723 sub-10998.html\r\n",
      "2017-11-18 05:00:31   22347167 sub-11019.html\r\n",
      "2017-11-18 05:00:34   23200422 sub-11030.html\r\n",
      "2017-11-18 05:00:36   22379100 sub-11044.html\r\n",
      "2017-11-18 05:00:37   23358832 sub-11050.html\r\n",
      "2017-11-18 05:00:39   22027524 sub-11052.html\r\n",
      "2017-11-18 05:00:40   22358802 sub-11059.html\r\n",
      "2017-11-18 05:00:42   20574603 sub-11061.html\r\n",
      "2017-11-18 05:00:44   21019479 sub-11062.html\r\n",
      "2017-11-18 05:00:45   22412646 sub-11066.html\r\n",
      "2017-11-18 05:00:47   22820104 sub-11067.html\r\n",
      "2017-11-18 05:00:49   22543736 sub-11068.html\r\n",
      "2017-11-18 05:00:50   21982235 sub-11077.html\r\n",
      "2017-11-18 05:00:52   10793629 sub-11082.html\r\n",
      "2017-11-18 05:00:53   21468400 sub-11088.html\r\n",
      "2017-11-18 05:00:55   22606220 sub-11090.html\r\n",
      "2017-11-18 05:00:56   21884771 sub-11097.html\r\n",
      "2017-11-18 05:00:58   22899019 sub-11098.html\r\n",
      "2017-11-18 05:01:00   24367472 sub-11104.html\r\n",
      "2017-11-18 05:01:01   21518875 sub-11105.html\r\n",
      "2017-11-18 05:01:03   22287609 sub-11106.html\r\n",
      "2017-11-18 05:01:05   22051846 sub-11108.html\r\n",
      "2017-11-18 05:01:07   21773286 sub-11112.html\r\n",
      "2017-11-18 05:01:09   19372314 sub-11122.html\r\n",
      "2017-11-18 05:01:10   20144026 sub-11128.html\r\n",
      "2017-11-18 05:01:12   19333069 sub-11131.html\r\n",
      "2017-11-18 05:01:14   23639181 sub-11142.html\r\n",
      "2017-11-18 05:01:16   23061411 sub-11143.html\r\n",
      "2017-11-18 05:01:17   24211032 sub-11149.html\r\n",
      "2017-11-18 05:01:19   21546295 sub-11156.html\r\n",
      "2017-11-18 05:01:21   23506802 sub-50004.html\r\n",
      "2017-11-18 05:01:23   18758658 sub-50005.html\r\n",
      "2017-11-18 05:01:24   17798726 sub-50006.html\r\n",
      "2017-11-18 05:01:26   16873576 sub-50007.html\r\n",
      "2017-11-18 05:01:27   18359012 sub-50008.html\r\n",
      "2017-11-18 05:01:29   18102248 sub-50010.html\r\n",
      "2017-11-18 05:01:30   23658072 sub-50013.html\r\n",
      "2017-11-18 05:01:31   23279043 sub-50014.html\r\n",
      "2017-11-18 05:01:33   23758076 sub-50015.html\r\n",
      "2017-11-18 05:01:35   22759134 sub-50016.html\r\n",
      "2017-11-18 05:01:37   21599741 sub-50020.html\r\n",
      "2017-11-18 05:01:38   19893256 sub-50021.html\r\n",
      "2017-11-18 05:01:40   23699023 sub-50022.html\r\n",
      "2017-11-18 05:01:42   21977067 sub-50023.html\r\n",
      "2017-11-18 05:01:44   22248157 sub-50025.html\r\n",
      "2017-11-18 05:01:45   21893737 sub-50027.html\r\n",
      "2017-11-18 05:01:47   19908741 sub-50029.html\r\n",
      "2017-11-18 05:01:48   19646383 sub-50032.html\r\n",
      "2017-11-18 05:01:50   22630321 sub-50033.html\r\n",
      "2017-11-18 05:01:51   22481738 sub-50034.html\r\n",
      "2017-11-18 05:01:53   20571758 sub-50035.html\r\n",
      "2017-11-18 05:01:54   22823200 sub-50036.html\r\n",
      "2017-11-18 05:01:56   21225259 sub-50038.html\r\n",
      "2017-11-18 05:01:57   22187234 sub-50043.html\r\n",
      "2017-11-18 05:01:59   21097340 sub-50047.html\r\n",
      "2017-11-18 05:02:00   22640027 sub-50048.html\r\n",
      "2017-11-18 05:02:02   21088786 sub-50049.html\r\n",
      "2017-11-18 05:02:03   23575649 sub-50050.html\r\n",
      "2017-11-18 05:02:05   24086281 sub-50051.html\r\n",
      "2017-11-18 05:02:06   20949808 sub-50052.html\r\n",
      "2017-11-18 05:02:08   21233701 sub-50053.html\r\n",
      "2017-11-18 05:02:10   24155263 sub-50054.html\r\n",
      "2017-11-18 05:02:11   22286676 sub-50055.html\r\n",
      "2017-11-18 05:02:12   20679919 sub-50056.html\r\n",
      "2017-11-18 05:02:14   21224263 sub-50058.html\r\n",
      "2017-11-18 05:02:16   21232075 sub-50059.html\r\n",
      "2017-11-18 05:02:17   23000919 sub-50060.html\r\n",
      "2017-11-18 05:02:18   21519428 sub-50061.html\r\n",
      "2017-11-18 05:02:20   20671029 sub-50064.html\r\n",
      "2017-11-18 05:02:21   21964578 sub-50066.html\r\n",
      "2017-11-18 05:02:23   23381477 sub-50067.html\r\n",
      "2017-11-18 05:02:24   21224332 sub-50069.html\r\n",
      "2017-11-18 05:02:26   23025779 sub-50073.html\r\n",
      "2017-11-18 05:02:27   21499561 sub-50075.html\r\n",
      "2017-11-18 05:02:28   22245270 sub-50076.html\r\n",
      "2017-11-18 05:02:30   21141633 sub-50077.html\r\n",
      "2017-11-18 05:02:31   22597864 sub-50080.html\r\n",
      "2017-11-18 05:02:33   22299364 sub-50081.html\r\n",
      "2017-11-18 05:02:34   22769999 sub-50083.html\r\n",
      "2017-11-18 05:02:36   24021999 sub-50085.html\r\n",
      "2017-11-18 05:02:37   15252946 sub-60001.html\r\n",
      "2017-11-18 05:02:38   20712957 sub-60005.html\r\n",
      "2017-11-18 05:02:39   19716386 sub-60006.html\r\n",
      "2017-11-18 05:02:41   17757655 sub-60008.html\r\n",
      "2017-11-18 05:02:42   21340251 sub-60010.html\r\n",
      "2017-11-18 05:02:43   23991226 sub-60011.html\r\n",
      "2017-11-18 05:02:45   24343338 sub-60012.html\r\n",
      "2017-11-18 05:02:46   21336424 sub-60014.html\r\n",
      "2017-11-18 05:02:47   20861260 sub-60015.html\r\n",
      "2017-11-18 05:02:49   23500726 sub-60016.html\r\n",
      "2017-11-18 05:02:50   23624455 sub-60017.html\r\n",
      "2017-11-18 05:02:52   21460791 sub-60020.html\r\n",
      "2017-11-18 05:02:53   19871294 sub-60021.html\r\n",
      "2017-11-18 05:02:55   21912668 sub-60022.html\r\n",
      "2017-11-18 05:02:57   21184451 sub-60028.html\r\n",
      "2017-11-18 05:02:58   19051043 sub-60030.html\r\n",
      "2017-11-18 05:03:00   21266195 sub-60033.html\r\n",
      "2017-11-18 05:03:01   20067262 sub-60036.html\r\n",
      "2017-11-18 05:03:03   22105680 sub-60037.html\r\n",
      "2017-11-18 05:03:04   24363829 sub-60038.html\r\n",
      "2017-11-18 05:03:06   24942001 sub-60042.html\r\n",
      "2017-11-18 05:03:08   21782573 sub-60043.html\r\n",
      "2017-11-18 05:03:09   20216009 sub-60045.html\r\n",
      "2017-11-18 05:03:10   21795387 sub-60046.html\r\n",
      "2017-11-18 05:03:12   22080909 sub-60048.html\r\n",
      "2017-11-18 05:03:14   21682068 sub-60049.html\r\n",
      "2017-11-18 05:03:15   21927214 sub-60051.html\r\n",
      "2017-11-18 05:03:17   20073828 sub-60052.html\r\n",
      "2017-11-18 05:03:18   23115049 sub-60053.html\r\n",
      "2017-11-18 05:03:20   22744579 sub-60055.html\r\n",
      "2017-11-18 05:03:21   21450435 sub-60056.html\r\n",
      "2017-11-18 05:03:23   19169997 sub-60057.html\r\n",
      "2017-11-18 05:03:24   22030181 sub-60060.html\r\n",
      "2017-11-18 05:03:25   22007262 sub-60062.html\r\n",
      "2017-11-18 05:03:27   22733859 sub-60065.html\r\n",
      "2017-11-18 05:03:28   21927220 sub-60066.html\r\n",
      "2017-11-18 05:03:30   21309308 sub-60068.html\r\n",
      "2017-11-18 05:03:31   22097643 sub-60070.html\r\n",
      "2017-11-18 05:03:33   22238035 sub-60072.html\r\n",
      "2017-11-18 05:03:34   23546223 sub-60073.html\r\n",
      "2017-11-18 05:03:36   20824423 sub-60074.html\r\n",
      "2017-11-18 05:03:37   22261455 sub-60076.html\r\n",
      "2017-11-18 05:03:39   21835593 sub-60077.html\r\n",
      "2017-11-18 05:03:40   22332766 sub-60078.html\r\n",
      "2017-11-18 05:03:42   21866435 sub-60079.html\r\n",
      "2017-11-18 05:03:43   24349586 sub-60080.html\r\n",
      "2017-11-18 05:03:44   20561198 sub-60084.html\r\n",
      "2017-11-18 05:03:46   24043426 sub-60087.html\r\n",
      "2017-11-18 05:03:47   22863848 sub-60089.html\r\n",
      "2017-11-18 05:03:48   14121673 sub-70001.html\r\n",
      "2017-11-18 05:03:49    6128972 sub-70002.html\r\n",
      "2017-11-18 05:03:50   17343321 sub-70004.html\r\n",
      "2017-11-18 05:03:51   18970591 sub-70007.html\r\n",
      "2017-11-18 05:03:52   16136589 sub-70010.html\r\n",
      "2017-11-18 05:03:53   20056323 sub-70015.html\r\n",
      "2017-11-18 05:03:54   20884890 sub-70017.html\r\n",
      "2017-11-18 05:03:55   21211152 sub-70020.html\r\n",
      "2017-11-18 05:03:57   23091198 sub-70021.html\r\n",
      "2017-11-18 05:03:58   22199214 sub-70022.html\r\n",
      "2017-11-18 05:03:59   20649580 sub-70026.html\r\n",
      "2017-11-18 05:04:01   20804270 sub-70029.html\r\n",
      "2017-11-18 05:04:02   21726050 sub-70033.html\r\n",
      "2017-11-18 05:04:03   22475712 sub-70034.html\r\n",
      "2017-11-18 05:04:05   21023726 sub-70037.html\r\n",
      "2017-11-18 05:04:06   21815704 sub-70040.html\r\n",
      "2017-11-18 05:04:31   21662438 sub-70046.html\r\n",
      "2017-11-18 05:04:09   22071355 sub-70048.html\r\n",
      "2017-11-18 05:04:10   22178690 sub-70049.html\r\n",
      "2017-11-18 05:04:12   21673402 sub-70051.html\r\n",
      "2017-11-18 05:04:13   20871021 sub-70052.html\r\n",
      "2017-11-18 05:04:15   20540043 sub-70055.html\r\n",
      "2017-11-18 05:04:16   23132883 sub-70057.html\r\n",
      "2017-11-18 05:04:17   20727274 sub-70058.html\r\n",
      "2017-11-18 05:04:19   19958976 sub-70060.html\r\n",
      "2017-11-18 05:04:20   22339154 sub-70061.html\r\n",
      "2017-11-18 05:04:21   22272507 sub-70065.html\r\n",
      "2017-11-18 05:04:22   21397627 sub-70068.html\r\n",
      "2017-11-18 05:04:24   23971301 sub-70069.html\r\n",
      "2017-11-18 05:04:25   21616167 sub-70070.html\r\n",
      "2017-11-18 05:04:26   21208333 sub-70072.html\r\n",
      "2017-11-18 05:04:28   22487875 sub-70073.html\r\n",
      "2017-11-18 05:04:29   23300684 sub-70074.html\r\n",
      "2017-11-18 05:04:30   23746094 sub-70075.html\r\n",
      "2017-11-18 05:04:32   18790859 sub-70076.html\r\n",
      "2017-11-18 05:04:33   19868106 sub-70077.html\r\n",
      "2017-11-18 05:04:34   22838162 sub-70079.html\r\n",
      "2017-11-18 05:04:35   20597020 sub-70080.html\r\n",
      "2017-11-18 05:04:36   21526040 sub-70081.html\r\n"
     ]
    },
    {
     "name": "stdout",
     "output_type": "stream",
     "text": [
      "2017-11-18 05:04:38   22115476 sub-70083.html\r\n",
      "2017-11-18 05:04:39   22018888 sub-70086.html\r\n"
     ]
    }
   ],
   "source": [
    "!aws s3 ls --no-sign-request s3://openneuro/ds000030/ds000030_R1.0.5/uncompressed/derivatives/fmriprep/"
   ]
  },
  {
   "cell_type": "code",
   "execution_count": 16,
   "metadata": {
    "scrolled": true
   },
   "outputs": [
    {
     "name": "stdout",
     "output_type": "stream",
     "text": [
      "download failed: s3://openneuro/ds000030/ds000030_R1.0.5/uncompressed/derivatives/fmriprep/sub-10788/func/sub-10788_task-rest_bold_space-T1w_preproc.nii.gz to ../data/ds000030/fmriprep/sub-10788/func/sub-10788_task-rest_bold_space-T1w_preproc.nii.gz [Errno 28] No space left on device\n",
      "download failed: s3://openneuro/ds000030/ds000030_R1.0.5/uncompressed/derivatives/fmriprep/sub-50052/func/sub-50052_task-pamret_bold_space-T1w_preproc.nii.gz to ../data/ds000030/fmriprep/sub-50052/func/sub-50052_task-pamret_bold_space-T1w_preproc.nii.gz [Errno 28] No space left on device\n",
      "download failed: s3://openneuro/ds000030/ds000030_R1.0.5/uncompressed/derivatives/fmriprep/sub-50052/func/sub-50052_task-rest_bold_space-T1w_preproc.nii.gz to ../data/ds000030/fmriprep/sub-50052/func/sub-50052_task-rest_bold_space-T1w_preproc.nii.gz [Errno 28] No space left on device\n",
      "download failed: s3://openneuro/ds000030/ds000030_R1.0.5/uncompressed/derivatives/fmriprep/sub-50052/func/sub-50052_task-pamret_bold_space-MNI152NLin2009cAsym_preproc.nii.gz to ../data/ds000030/fmriprep/sub-50052/func/sub-50052_task-pamret_bold_space-MNI152NLin2009cAsym_preproc.nii.gz [Errno 28] No space left on device\n",
      "download failed: s3://openneuro/ds000030/ds000030_R1.0.5/uncompressed/derivatives/fmriprep/sub-50052/func/sub-50052_task-rest_bold_space-MNI152NLin2009cAsym_preproc.nii.gz to ../data/ds000030/fmriprep/sub-50052/func/sub-50052_task-rest_bold_space-MNI152NLin2009cAsym_preproc.nii.gz [Errno 28] No space left on device\n",
      "download failed: s3://openneuro/ds000030/ds000030_R1.0.5/uncompressed/derivatives/fmriprep/sub-50052/func/sub-50052_task-stopsignal_bold_space-MNI152NLin2009cAsym_preproc.nii.gz to ../data/ds000030/fmriprep/sub-50052/func/sub-50052_task-stopsignal_bold_space-MNI152NLin2009cAsym_preproc.nii.gz [Errno 28] No space left on device\n",
      "download failed: s3://openneuro/ds000030/ds000030_R1.0.5/uncompressed/derivatives/fmriprep/sub-50052/func/sub-50052_task-stopsignal_bold_space-T1w_preproc.nii.gz to ../data/ds000030/fmriprep/sub-50052/func/sub-50052_task-stopsignal_bold_space-T1w_preproc.nii.gz [Errno 28] No space left on device\n",
      "download failed: s3://openneuro/ds000030/ds000030_R1.0.5/uncompressed/derivatives/fmriprep/sub-50052/func/sub-50052_task-scap_bold_space-T1w_preproc.nii.gz to ../data/ds000030/fmriprep/sub-50052/func/sub-50052_task-scap_bold_space-T1w_preproc.nii.gz [Errno 28] No space left on device\n",
      "download failed: s3://openneuro/ds000030/ds000030_R1.0.5/uncompressed/derivatives/fmriprep/sub-50052/func/sub-50052_task-scap_bold_space-MNI152NLin2009cAsym_preproc.nii.gz to ../data/ds000030/fmriprep/sub-50052/func/sub-50052_task-scap_bold_space-MNI152NLin2009cAsym_preproc.nii.gz [Errno 28] No space left on device\n",
      "download failed: s3://openneuro/ds000030/ds000030_R1.0.5/uncompressed/derivatives/fmriprep/sub-50052/func/sub-50052_task-taskswitch_bold_space-MNI152NLin2009cAsym_preproc.nii.gz to ../data/ds000030/fmriprep/sub-50052/func/sub-50052_task-taskswitch_bold_space-MNI152NLin2009cAsym_preproc.nii.gz [Errno 28] No space left on device\n",
      "download failed: s3://openneuro/ds000030/ds000030_R1.0.5/uncompressed/derivatives/fmriprep/sub-50075/anat/sub-50075_T1w_preproc.nii.gz to ../data/ds000030/fmriprep/sub-50075/anat/sub-50075_T1w_preproc.nii.gz [Errno 28] No space left on device\n",
      "download failed: s3://openneuro/ds000030/ds000030_R1.0.5/uncompressed/derivatives/fmriprep/sub-50075/anat/sub-50075_T1w_space-MNI152NLin2009cAsym_warp.h5 to ../data/ds000030/fmriprep/sub-50075/anat/sub-50075_T1w_space-MNI152NLin2009cAsym_warp.h5 [Errno 28] No space left on device\n",
      "download failed: s3://openneuro/ds000030/ds000030_R1.0.5/uncompressed/derivatives/fmriprep/sub-50075/func/sub-50075_task-bht_bold_space-MNI152NLin2009cAsym_preproc.nii.gz to ../data/ds000030/fmriprep/sub-50075/func/sub-50075_task-bht_bold_space-MNI152NLin2009cAsym_preproc.nii.gz [Errno 28] No space left on device\n",
      "download failed: s3://openneuro/ds000030/ds000030_R1.0.5/uncompressed/derivatives/fmriprep/sub-50075/func/sub-50075_task-bart_bold_space-T1w_preproc.nii.gz to ../data/ds000030/fmriprep/sub-50075/func/sub-50075_task-bart_bold_space-T1w_preproc.nii.gz [Errno 28] No space left on device\n",
      "download failed: s3://openneuro/ds000030/ds000030_R1.0.5/uncompressed/derivatives/fmriprep/sub-50075/func/sub-50075_task-bart_bold_space-fsaverage5.R.func.gii to ../data/ds000030/fmriprep/sub-50075/func/sub-50075_task-bart_bold_space-fsaverage5.R.func.gii [Errno 28] No space left on device\n",
      "download failed: s3://openneuro/ds000030/ds000030_R1.0.5/uncompressed/derivatives/fmriprep/sub-50075/func/sub-50075_task-bart_bold_space-fsaverage5.L.func.gii to ../data/ds000030/fmriprep/sub-50075/func/sub-50075_task-bart_bold_space-fsaverage5.L.func.gii [Errno 28] No space left on device\n",
      "download failed: s3://openneuro/ds000030/ds000030_R1.0.5/uncompressed/derivatives/fmriprep/sub-50075/func/sub-50075_task-bht_bold_space-T1w_preproc.nii.gz to ../data/ds000030/fmriprep/sub-50075/func/sub-50075_task-bht_bold_space-T1w_preproc.nii.gz [Errno 28] No space left on device\n",
      "download failed: s3://openneuro/ds000030/ds000030_R1.0.5/uncompressed/derivatives/fmriprep/sub-50075/func/sub-50075_task-pamenc_bold_space-MNI152NLin2009cAsym_preproc.nii.gz to ../data/ds000030/fmriprep/sub-50075/func/sub-50075_task-pamenc_bold_space-MNI152NLin2009cAsym_preproc.nii.gz [Errno 28] No space left on device\n",
      "download failed: s3://openneuro/ds000030/ds000030_R1.0.5/uncompressed/derivatives/fmriprep/sub-50075/func/sub-50075_task-pamenc_bold_space-T1w_preproc.nii.gz to ../data/ds000030/fmriprep/sub-50075/func/sub-50075_task-pamenc_bold_space-T1w_preproc.nii.gz [Errno 28] No space left on device\n",
      "download failed: s3://openneuro/ds000030/ds000030_R1.0.5/uncompressed/derivatives/fmriprep/sub-50075/func/sub-50075_task-bart_bold_space-MNI152NLin2009cAsym_preproc.nii.gz to ../data/ds000030/fmriprep/sub-50075/func/sub-50075_task-bart_bold_space-MNI152NLin2009cAsym_preproc.nii.gz [Errno 28] No space left on device\n",
      "download failed: s3://openneuro/ds000030/ds000030_R1.0.5/uncompressed/derivatives/fmriprep/sub-50075/func/sub-50075_task-rest_bold_space-MNI152NLin2009cAsym_preproc.nii.gz to ../data/ds000030/fmriprep/sub-50075/func/sub-50075_task-rest_bold_space-MNI152NLin2009cAsym_preproc.nii.gz [Errno 28] No space left on device\n",
      "download failed: s3://openneuro/ds000030/ds000030_R1.0.5/uncompressed/derivatives/fmriprep/sub-50075/func/sub-50075_task-pamret_bold_space-T1w_preproc.nii.gz to ../data/ds000030/fmriprep/sub-50075/func/sub-50075_task-pamret_bold_space-T1w_preproc.nii.gz [Errno 28] No space left on device\n",
      "download failed: s3://openneuro/ds000030/ds000030_R1.0.5/uncompressed/derivatives/fmriprep/sub-50075/func/sub-50075_task-rest_bold_space-T1w_preproc.nii.gz to ../data/ds000030/fmriprep/sub-50075/func/sub-50075_task-rest_bold_space-T1w_preproc.nii.gz [Errno 28] No space left on device\n",
      "download failed: s3://openneuro/ds000030/ds000030_R1.0.5/uncompressed/derivatives/fmriprep/sub-50075/func/sub-50075_task-pamret_bold_space-MNI152NLin2009cAsym_preproc.nii.gz to ../data/ds000030/fmriprep/sub-50075/func/sub-50075_task-pamret_bold_space-MNI152NLin2009cAsym_preproc.nii.gz [Errno 28] No space left on device\n",
      "download failed: s3://openneuro/ds000030/ds000030_R1.0.5/uncompressed/derivatives/fmriprep/sub-50075/func/sub-50075_task-pamret_bold_space-fsaverage5.R.func.gii to ../data/ds000030/fmriprep/sub-50075/func/sub-50075_task-pamret_bold_space-fsaverage5.R.func.gii [Errno 28] No space left on device\n",
      "download failed: s3://openneuro/ds000030/ds000030_R1.0.5/uncompressed/derivatives/fmriprep/sub-50075/func/sub-50075_task-pamenc_bold_space-fsaverage5.L.func.gii to ../data/ds000030/fmriprep/sub-50075/func/sub-50075_task-pamenc_bold_space-fsaverage5.L.func.gii [Errno 28] No space left on device\n",
      "download failed: s3://openneuro/ds000030/ds000030_R1.0.5/uncompressed/derivatives/fmriprep/sub-50075/func/sub-50075_task-scap_bold_space-MNI152NLin2009cAsym_preproc.nii.gz to ../data/ds000030/fmriprep/sub-50075/func/sub-50075_task-scap_bold_space-MNI152NLin2009cAsym_preproc.nii.gz [Errno 28] No space left on device\n",
      "download failed: s3://openneuro/ds000030/ds000030_R1.0.5/uncompressed/derivatives/fmriprep/sub-50075/func/sub-50075_task-taskswitch_bold_space-T1w_preproc.nii.gz to ../data/ds000030/fmriprep/sub-50075/func/sub-50075_task-taskswitch_bold_space-T1w_preproc.nii.gz [Errno 28] No space left on device\n"
     ]
    },
    {
     "name": "stdout",
     "output_type": "stream",
     "text": [
      "download failed: s3://openneuro/ds000030/ds000030_R1.0.5/uncompressed/derivatives/fmriprep/sub-50075/func/sub-50075_task-scap_bold_space-T1w_preproc.nii.gz to ../data/ds000030/fmriprep/sub-50075/func/sub-50075_task-scap_bold_space-T1w_preproc.nii.gz [Errno 28] No space left on device\n",
      "download failed: s3://openneuro/ds000030/ds000030_R1.0.5/uncompressed/derivatives/fmriprep/sub-50075/func/sub-50075_task-stopsignal_bold_space-T1w_preproc.nii.gz to ../data/ds000030/fmriprep/sub-50075/func/sub-50075_task-stopsignal_bold_space-T1w_preproc.nii.gz [Errno 28] No space left on device\n",
      "download failed: s3://openneuro/ds000030/ds000030_R1.0.5/uncompressed/derivatives/fmriprep/sub-50075/func/sub-50075_task-stopsignal_bold_space-MNI152NLin2009cAsym_preproc.nii.gz to ../data/ds000030/fmriprep/sub-50075/func/sub-50075_task-stopsignal_bold_space-MNI152NLin2009cAsym_preproc.nii.gz [Errno 28] No space left on device\n",
      "download failed: s3://openneuro/ds000030/ds000030_R1.0.5/uncompressed/derivatives/fmriprep/sub-50075/func/sub-50075_task-stopsignal_bold_space-fsaverage5.R.func.gii to ../data/ds000030/fmriprep/sub-50075/func/sub-50075_task-stopsignal_bold_space-fsaverage5.R.func.gii [Errno 28] No space left on device\n",
      "download failed: s3://openneuro/ds000030/ds000030_R1.0.5/uncompressed/derivatives/fmriprep/sub-50075/func/sub-50075_task-taskswitch_bold_space-MNI152NLin2009cAsym_preproc.nii.gz to ../data/ds000030/fmriprep/sub-50075/func/sub-50075_task-taskswitch_bold_space-MNI152NLin2009cAsym_preproc.nii.gz [Errno 28] No space left on device\n",
      "download failed: s3://openneuro/ds000030/ds000030_R1.0.5/uncompressed/derivatives/fmriprep/sub-50075/func/sub-50075_task-taskswitch_bold_space-fsaverage5.L.func.gii to ../data/ds000030/fmriprep/sub-50075/func/sub-50075_task-taskswitch_bold_space-fsaverage5.L.func.gii [Errno 28] No space left on device\n",
      "download failed: s3://openneuro/ds000030/ds000030_R1.0.5/uncompressed/derivatives/fmriprep/sub-50010/anat/sub-50010_T1w_space-MNI152NLin2009cAsym_class-CSF_probtissue.nii.gz to ../data/ds000030/fmriprep/sub-50010/anat/sub-50010_T1w_space-MNI152NLin2009cAsym_class-CSF_probtissue.nii.gz [Errno 28] No space left on device\n",
      "download failed: s3://openneuro/ds000030/ds000030_R1.0.5/uncompressed/derivatives/fmriprep/sub-50010/anat/sub-50010_T1w_space-MNI152NLin2009cAsym_class-WM_probtissue.nii.gz to ../data/ds000030/fmriprep/sub-50010/anat/sub-50010_T1w_space-MNI152NLin2009cAsym_class-WM_probtissue.nii.gz [Errno 28] No space left on device\n",
      "download failed: s3://openneuro/ds000030/ds000030_R1.0.5/uncompressed/derivatives/fmriprep/sub-50010/anat/sub-50010_T1w_space-MNI152NLin2009cAsym_class-GM_probtissue.nii.gz to ../data/ds000030/fmriprep/sub-50010/anat/sub-50010_T1w_space-MNI152NLin2009cAsym_class-GM_probtissue.nii.gz [Errno 28] No space left on device\n",
      "download failed: s3://openneuro/ds000030/ds000030_R1.0.5/uncompressed/derivatives/fmriprep/sub-50010/anat/sub-50010_T1w_preproc.nii.gz to ../data/ds000030/fmriprep/sub-50010/anat/sub-50010_T1w_preproc.nii.gz [Errno 28] No space left on device\n",
      "download failed: s3://openneuro/ds000030/ds000030_R1.0.5/uncompressed/derivatives/fmriprep/sub-50010/anat/sub-50010_T1w_pial.L.surf.gii to ../data/ds000030/fmriprep/sub-50010/anat/sub-50010_T1w_pial.L.surf.gii [Errno 28] No space left on device\n",
      "download failed: s3://openneuro/ds000030/ds000030_R1.0.5/uncompressed/derivatives/fmriprep/sub-50010/func/sub-50010_task-bht_bold_space-fsaverage5.L.func.gii to ../data/ds000030/fmriprep/sub-50010/func/sub-50010_task-bht_bold_space-fsaverage5.L.func.gii [Errno 28] No space left on device\n",
      "download failed: s3://openneuro/ds000030/ds000030_R1.0.5/uncompressed/derivatives/fmriprep/sub-50010/func/sub-50010_task-bart_bold_space-fsaverage5.L.func.gii to ../data/ds000030/fmriprep/sub-50010/func/sub-50010_task-bart_bold_space-fsaverage5.L.func.gii [Errno 28] No space left on device\n",
      "download failed: s3://openneuro/ds000030/ds000030_R1.0.5/uncompressed/derivatives/fmriprep/sub-50010/func/sub-50010_task-bart_bold_space-fsaverage5.R.func.gii to ../data/ds000030/fmriprep/sub-50010/func/sub-50010_task-bart_bold_space-fsaverage5.R.func.gii [Errno 28] No space left on device\n",
      "download failed: s3://openneuro/ds000030/ds000030_R1.0.5/uncompressed/derivatives/fmriprep/sub-50010/anat/sub-50010_T1w_space-MNI152NLin2009cAsym_warp.h5 to ../data/ds000030/fmriprep/sub-50010/anat/sub-50010_T1w_space-MNI152NLin2009cAsym_warp.h5 [Errno 28] No space left on device\n",
      "download failed: s3://openneuro/ds000030/ds000030_R1.0.5/uncompressed/derivatives/fmriprep/sub-50010/func/sub-50010_task-bht_bold_space-fsaverage5.R.func.gii to ../data/ds000030/fmriprep/sub-50010/func/sub-50010_task-bht_bold_space-fsaverage5.R.func.gii [Errno 28] No space left on device\n",
      "download failed: s3://openneuro/ds000030/ds000030_R1.0.5/uncompressed/derivatives/fmriprep/sub-50010/func/sub-50010_task-bart_bold_space-T1w_preproc.nii.gz to ../data/ds000030/fmriprep/sub-50010/func/sub-50010_task-bart_bold_space-T1w_preproc.nii.gz [Errno 28] No space left on device\n",
      "download failed: s3://openneuro/ds000030/ds000030_R1.0.5/uncompressed/derivatives/fmriprep/sub-50010/func/sub-50010_task-bht_bold_space-MNI152NLin2009cAsym_preproc.nii.gz to ../data/ds000030/fmriprep/sub-50010/func/sub-50010_task-bht_bold_space-MNI152NLin2009cAsym_preproc.nii.gz [Errno 28] No space left on device\n",
      "download failed: s3://openneuro/ds000030/ds000030_R1.0.5/uncompressed/derivatives/fmriprep/sub-50010/func/sub-50010_task-rest_bold_space-fsaverage5.R.func.gii to ../data/ds000030/fmriprep/sub-50010/func/sub-50010_task-rest_bold_space-fsaverage5.R.func.gii [Errno 28] No space left on device\n",
      "download failed: s3://openneuro/ds000030/ds000030_R1.0.5/uncompressed/derivatives/fmriprep/sub-50010/func/sub-50010_task-rest_bold_space-fsaverage5.L.func.gii to ../data/ds000030/fmriprep/sub-50010/func/sub-50010_task-rest_bold_space-fsaverage5.L.func.gii [Errno 28] No space left on device\n",
      "download failed: s3://openneuro/ds000030/ds000030_R1.0.5/uncompressed/derivatives/fmriprep/sub-50010/func/sub-50010_task-bart_bold_space-MNI152NLin2009cAsym_preproc.nii.gz to ../data/ds000030/fmriprep/sub-50010/func/sub-50010_task-bart_bold_space-MNI152NLin2009cAsym_preproc.nii.gz [Errno 28] No space left on device\n",
      "download failed: s3://openneuro/ds000030/ds000030_R1.0.5/uncompressed/derivatives/fmriprep/sub-50010/func/sub-50010_task-rest_bold_space-MNI152NLin2009cAsym_preproc.nii.gz to ../data/ds000030/fmriprep/sub-50010/func/sub-50010_task-rest_bold_space-MNI152NLin2009cAsym_preproc.nii.gz [Errno 28] No space left on device\n",
      "download failed: s3://openneuro/ds000030/ds000030_R1.0.5/uncompressed/derivatives/fmriprep/sub-50010/func/sub-50010_task-rest_bold_space-T1w_preproc.nii.gz to ../data/ds000030/fmriprep/sub-50010/func/sub-50010_task-rest_bold_space-T1w_preproc.nii.gz [Errno 28] No space left on device\n",
      "download failed: s3://openneuro/ds000030/ds000030_R1.0.5/uncompressed/derivatives/fmriprep/sub-50010/func/sub-50010_task-bht_bold_space-T1w_preproc.nii.gz to ../data/ds000030/fmriprep/sub-50010/func/sub-50010_task-bht_bold_space-T1w_preproc.nii.gz [Errno 28] No space left on device\n",
      "download failed: s3://openneuro/ds000030/ds000030_R1.0.5/uncompressed/derivatives/fmriprep/sub-50010/func/sub-50010_task-scap_bold_space-fsaverage5.R.func.gii to ../data/ds000030/fmriprep/sub-50010/func/sub-50010_task-scap_bold_space-fsaverage5.R.func.gii [Errno 28] No space left on device\n",
      "download failed: s3://openneuro/ds000030/ds000030_R1.0.5/uncompressed/derivatives/fmriprep/sub-50010/func/sub-50010_task-scap_bold_space-fsaverage5.L.func.gii to ../data/ds000030/fmriprep/sub-50010/func/sub-50010_task-scap_bold_space-fsaverage5.L.func.gii [Errno 28] No space left on device\n",
      "download: s3://openneuro/ds000030/ds000030_R1.0.5/uncompressed/derivatives/fmriprep/sub-50010/func/sub-50010_task-stopsignal_bold_space-MNI152NLin2009cAsym_brainmask.nii.gz to ../data/ds000030/fmriprep/sub-50010/func/sub-50010_task-stopsignal_bold_space-MNI152NLin2009cAsym_brainmask.nii.gz\n",
      "download failed: s3://openneuro/ds000030/ds000030_R1.0.5/uncompressed/derivatives/fmriprep/sub-50010/func/sub-50010_task-stopsignal_bold_space-fsaverage5.R.func.gii to ../data/ds000030/fmriprep/sub-50010/func/sub-50010_task-stopsignal_bold_space-fsaverage5.R.func.gii [Errno 28] No space left on device\n"
     ]
    },
    {
     "name": "stdout",
     "output_type": "stream",
     "text": [
      "download failed: s3://openneuro/ds000030/ds000030_R1.0.5/uncompressed/derivatives/fmriprep/sub-50010/func/sub-50010_task-stopsignal_bold_confounds.tsv to ../data/ds000030/fmriprep/sub-50010/func/sub-50010_task-stopsignal_bold_confounds.tsv [Errno 28] No space left on device\n",
      "download failed: s3://openneuro/ds000030/ds000030_R1.0.5/uncompressed/derivatives/fmriprep/sub-50010/func/sub-50010_task-scap_bold_space-T1w_preproc.nii.gz to ../data/ds000030/fmriprep/sub-50010/func/sub-50010_task-scap_bold_space-T1w_preproc.nii.gz [Errno 28] No space left on device\n",
      "download failed: s3://openneuro/ds000030/ds000030_R1.0.5/uncompressed/derivatives/fmriprep/sub-50010/func/sub-50010_task-stopsignal_bold_space-MNI152NLin2009cAsym_preproc.nii.gz to ../data/ds000030/fmriprep/sub-50010/func/sub-50010_task-stopsignal_bold_space-MNI152NLin2009cAsym_preproc.nii.gz [Errno 28] No space left on device\n",
      "download: s3://openneuro/ds000030/ds000030_R1.0.5/uncompressed/derivatives/fmriprep/sub-50010/func/sub-50010_task-stopsignal_bold_space-T1w_brainmask.nii.gz to ../data/ds000030/fmriprep/sub-50010/func/sub-50010_task-stopsignal_bold_space-T1w_brainmask.nii.gz\n",
      "download failed: s3://openneuro/ds000030/ds000030_R1.0.5/uncompressed/derivatives/fmriprep/sub-50010/func/sub-50010_task-scap_bold_space-MNI152NLin2009cAsym_preproc.nii.gz to ../data/ds000030/fmriprep/sub-50010/func/sub-50010_task-scap_bold_space-MNI152NLin2009cAsym_preproc.nii.gz [Errno 28] No space left on device\n",
      "download failed: s3://openneuro/ds000030/ds000030_R1.0.5/uncompressed/derivatives/fmriprep/sub-50010/func/sub-50010_task-taskswitch_bold_space-fsaverage5.L.func.gii to ../data/ds000030/fmriprep/sub-50010/func/sub-50010_task-taskswitch_bold_space-fsaverage5.L.func.gii [Errno 28] No space left on device\n",
      "download failed: s3://openneuro/ds000030/ds000030_R1.0.5/uncompressed/derivatives/fmriprep/sub-50010/func/sub-50010_task-taskswitch_bold_space-MNI152NLin2009cAsym_preproc.nii.gz to ../data/ds000030/fmriprep/sub-50010/func/sub-50010_task-taskswitch_bold_space-MNI152NLin2009cAsym_preproc.nii.gz [Errno 28] No space left on device\n",
      "download failed: s3://openneuro/ds000030/ds000030_R1.0.5/uncompressed/derivatives/fmriprep/sub-50010/func/sub-50010_task-taskswitch_bold_space-T1w_preproc.nii.gz to ../data/ds000030/fmriprep/sub-50010/func/sub-50010_task-taskswitch_bold_space-T1w_preproc.nii.gz [Errno 28] No space left on device\n",
      "download failed: s3://openneuro/ds000030/ds000030_R1.0.5/uncompressed/derivatives/fmriprep/sub-50010/func/sub-50010_task-stopsignal_bold_space-fsaverage5.L.func.gii to ../data/ds000030/fmriprep/sub-50010/func/sub-50010_task-stopsignal_bold_space-fsaverage5.L.func.gii [Errno 28] No space left on device\n",
      "download failed: s3://openneuro/ds000030/ds000030_R1.0.5/uncompressed/derivatives/fmriprep/sub-50010/func/sub-50010_task-stopsignal_bold_space-T1w_preproc.nii.gz to ../data/ds000030/fmriprep/sub-50010/func/sub-50010_task-stopsignal_bold_space-T1w_preproc.nii.gz [Errno 28] No space left on device\n",
      "download failed: s3://openneuro/ds000030/ds000030_R1.0.5/uncompressed/derivatives/fmriprep/sub-50010/func/sub-50010_task-taskswitch_bold_space-fsaverage5.R.func.gii to ../data/ds000030/fmriprep/sub-50010/func/sub-50010_task-taskswitch_bold_space-fsaverage5.R.func.gii [Errno 28] No space left on device\n"
     ]
    }
   ],
   "source": [
    "# download T1w scans\n",
    "!cat ../download_list | \\\n",
    "  xargs -I '{}' aws s3 sync --no-sign-request \\\n",
    "  s3://openneuro/ds000030/ds000030_R1.0.5/uncompressed/{}/anat \\\n",
    "  ../data/ds000030/{}/anat\n",
    "    \n",
    "!cat ../download_list | \\\n",
    "    xargs -I '{}' aws s3 sync --no-sign-request \\\n",
    "    s3://openneuro/ds000030/ds000030_R1.0.5/uncompressed/derivatives/fmriprep/{} \\\n",
    "    ../data/ds000030/fmriprep/{}\n",
    "\n",
    "# # download resting state fMRI scans\n",
    "# !cat ../download_list | \\\n",
    "#   xargs -I '{}' aws s3 sync --no-sign-request \\\n",
    "#   s3://openneuro/ds000030/ds000030_R1.0.5/uncompressed/{}/func \\\n",
    "#   ../data/ds000030/{}/func \\\n",
    "#   --exclude '*' \\\n",
    "#   --include '*task-rest_bold*'"
   ]
  },
  {
   "cell_type": "markdown",
   "metadata": {},
   "source": [
    "### Querying a BIDS Dataset"
   ]
  },
  {
   "cell_type": "markdown",
   "metadata": {},
   "source": [
    "There are multiple ways to traverse a BIDS dataset. "
   ]
  },
  {
   "cell_type": "code",
   "execution_count": null,
   "metadata": {},
   "outputs": [],
   "source": [
    "!tree ../data/ds000030"
   ]
  },
  {
   "cell_type": "markdown",
   "metadata": {},
   "source": [
    "[pybids](https://bids-standard.github.io/pybids/) is a Python API for querying, summarizing and manipulating the BIDS folder structure."
   ]
  },
  {
   "cell_type": "code",
   "execution_count": null,
   "metadata": {},
   "outputs": [],
   "source": [
    "import bids.layout"
   ]
  },
  {
   "cell_type": "code",
   "execution_count": null,
   "metadata": {},
   "outputs": [],
   "source": [
    "layout = bids.layout.BIDSLayout('../data/ds000030')"
   ]
  },
  {
   "cell_type": "markdown",
   "metadata": {},
   "source": [
    "The pybids layout object lets you query your BIDS dataset according to a number of parameters by using a `get_*()` method.  \n",
    "We can get a list of the subjects we've downloaded from the dataset."
   ]
  },
  {
   "cell_type": "code",
   "execution_count": null,
   "metadata": {},
   "outputs": [],
   "source": [
    "layout.get_subjects()"
   ]
  },
  {
   "cell_type": "markdown",
   "metadata": {},
   "source": [
    "We can list the modalities in the dataset."
   ]
  },
  {
   "cell_type": "code",
   "execution_count": null,
   "metadata": {},
   "outputs": [],
   "source": [
    "layout.get_modalities()"
   ]
  },
  {
   "cell_type": "markdown",
   "metadata": {},
   "source": [
    "We can get the fmri tasks."
   ]
  },
  {
   "cell_type": "code",
   "execution_count": null,
   "metadata": {},
   "outputs": [],
   "source": [
    "layout.get_tasks()"
   ]
  },
  {
   "cell_type": "markdown",
   "metadata": {},
   "source": [
    "Or even all of the data types."
   ]
  },
  {
   "cell_type": "code",
   "execution_count": null,
   "metadata": {},
   "outputs": [],
   "source": [
    "layout.get_types()"
   ]
  },
  {
   "cell_type": "markdown",
   "metadata": {},
   "source": [
    "We can be more specific. List the data types for the 'func' modality."
   ]
  },
  {
   "cell_type": "code",
   "execution_count": null,
   "metadata": {},
   "outputs": [],
   "source": [
    "layout.get_types(modality='func')"
   ]
  },
  {
   "cell_type": "markdown",
   "metadata": {},
   "source": [
    "What if we wanted to get all of our fMRI NIfTI files."
   ]
  },
  {
   "cell_type": "code",
   "execution_count": null,
   "metadata": {},
   "outputs": [],
   "source": [
    "layout.get(task='rest', type='bold', extensions='nii.gz', return_type='file')"
   ]
  },
  {
   "cell_type": "markdown",
   "metadata": {},
   "source": [
    "We can have it all."
   ]
  },
  {
   "cell_type": "markdown",
   "metadata": {},
   "source": [
    "Use the `get_metadata()` method to pull metadata from the JSON sidecar."
   ]
  },
  {
   "cell_type": "code",
   "execution_count": null,
   "metadata": {},
   "outputs": [],
   "source": [
    "layout.get_metadata('../data/ds000030/sub-10788/func/sub-10788_task-rest_bold.nii.gz')"
   ]
  },
  {
   "cell_type": "markdown",
   "metadata": {},
   "source": [
    "Convert `layout` to a data frame."
   ]
  },
  {
   "cell_type": "code",
   "execution_count": null,
   "metadata": {},
   "outputs": [],
   "source": [
    "df = layout.as_data_frame()\n",
    "df"
   ]
  }
 ],
 "metadata": {
  "kernelspec": {
   "display_name": "Python 3",
   "language": "python",
   "name": "python3"
  },
  "language_info": {
   "codemirror_mode": {
    "name": "ipython",
    "version": 3
   },
   "file_extension": ".py",
   "mimetype": "text/x-python",
   "name": "python",
   "nbconvert_exporter": "python",
   "pygments_lexer": "ipython3",
   "version": "3.7.3"
  }
 },
 "nbformat": 4,
 "nbformat_minor": 2
}
