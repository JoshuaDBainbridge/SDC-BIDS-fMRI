{
 "cells": [
  {
   "cell_type": "markdown",
   "metadata": {},
   "source": [
    "- https://github.com/ccbrain/fMRI_tutorials/blob/0bce9a0a2d1ff33dca75f29bce1d10cc5f243936/tutorial_preprocessing.ipynb\n",
    "- https://github.com/StevenM1/summerschool_mbn_2018/blob/master/Part%201.%20Preprocessing.ipynb"
   ]
  },
  {
   "cell_type": "markdown",
   "metadata": {},
   "source": [
    "fmriprep makes use of `nipype`."
   ]
  },
  {
   "cell_type": "markdown",
   "metadata": {},
   "source": [
    "## Using fmriprep"
   ]
  },
  {
   "cell_type": "markdown",
   "metadata": {},
   "source": [
    "`fmriprep` is a package developed by the Poldrack lab to do the minimal preprocessing required. It covers motion correction, field unwarping, registration, and brain extraction. It uses a combination of well-known software packages (e.g., FSL, SPM, ANTS, AFNI) and selects the 'best' implementation of each preprocessing step."
   ]
  },
  {
   "cell_type": "markdown",
   "metadata": {},
   "source": [
    "Once installed, `fmriprep` can be invoked from the command line."
   ]
  },
  {
   "cell_type": "markdown",
   "metadata": {},
   "source": [
    "Once installed, `fmriprep` can be invoked from the command line. One nice feature of IPython Notebooks (i.e., the thing in your browser you're right now looking at) is that you can invoke command line commands with an `!`, like this:"
   ]
  },
  {
   "cell_type": "code",
   "execution_count": null,
   "metadata": {},
   "outputs": [],
   "source": [
    "# download fmriprep preprocessed anat data\n",
    "!cat ../download_list | \\\n",
    "  xargs -I '{}' aws s3 sync --no-sign-request \\\n",
    "  s3://openneuro/ds000030/ds000030_R1.0.5/uncompressed/derivatives/fmriprep/{}/anat \\\n",
    "  ../data/ds000030/derivatives/fmriprep/{}/anat\n",
    "\n",
    "# download fmriprep preprocessed func data\n",
    "!cat ../download_list | \\\n",
    "  xargs -I '{}' aws s3 sync --no-sign-request \\\n",
    "  s3://openneuro/ds000030/ds000030_R1.0.5/uncompressed/derivatives/fmriprep/{}/func \\\n",
    "  ../data/ds000030/derivatives/fmriprep/{}/func \\\n",
    "  --exclude '*' \\\n",
    "  --include '*task-rest_bold*'"
   ]
  },
  {
   "cell_type": "code",
   "execution_count": null,
   "metadata": {},
   "outputs": [],
   "source": [
    "!ls /data/bids"
   ]
  },
  {
   "cell_type": "markdown",
   "metadata": {},
   "source": [
    "To visualize the full data structure, you can use `tree`:"
   ]
  },
  {
   "cell_type": "code",
   "execution_count": null,
   "metadata": {},
   "outputs": [],
   "source": [
    "!tree /data/deriv"
   ]
  },
  {
   "cell_type": "markdown",
   "metadata": {},
   "source": [
    "where `ls` is a command that shows all files and directories in a given directory (here, /data)"
   ]
  },
  {
   "cell_type": "markdown",
   "metadata": {},
   "source": [
    "Since `fmriprep` is run from command line, we could run it even inside a notebook! For example, the following command should work after you remove the 'hashtag' `#`"
   ]
  },
  {
   "cell_type": "code",
   "execution_count": null,
   "metadata": {},
   "outputs": [],
   "source": [
    "#!fmriprep \\\n",
    "#  --ignore slicetiming \\\n",
    "#  --ignore fieldmaps \\\n",
    "#  --output-space template \\\n",
    "#  --template MNI152NLin2009cAsym \\\n",
    "#  --template-resampling-grid 2mm \\\n",
    "#  --fs-no-reconall \\\n",
    "#  --fs-license-file \\\n",
    "#  ../license.txt \\\n",
    "#  ../data/ds000030 ../data/ds000030/derivatives/fmriprep participant"
   ]
  },
  {
   "cell_type": "markdown",
   "metadata": {},
   "source": [
    "The command above consists of the following parts:\n",
    "- \\\"fmriprep\\\" calls fmriprep\n",
    "- `--ignore slicetiming` tells fmriprep to _not_ perform slice timing correction\n",
    "- `--ignore fieldmaps` tells fmriprep to _not_ perform distortion correction (unfortunately, there are no field maps available in this data set)\n",
    "- `--output-space template` tells fmriprep to normalize (register) data to a template\n",
    "- `--template MNI152NLin2009cAsym` tells fmriprep that the template should be MNI152 version 6 (2009c)\n",
    "- `--template-resampling-grid 2mm` tells fmriprep to resample the output images to 2mm isotropic resolution\n",
    "- `--fs-license-file ../../license.txt` tells fmriprep where to find the license.txt-file for freesurfer - you can ignore this\n",
    "- `bids` is the name of the folder containing the data in bids format\n",
    "- `output_folder` is the name of the folder where we want the preprocessed data to be stored,\n",
    "- `participant` tells fmriprep to run only at the participant level (and not, for example, at the group level - you can forget about this)\n",
    "\n",
    "The [official documentation](http://fmriprep.readthedocs.io/) contains all possible arguments you can pass."
   ]
  },
  {
   "cell_type": "markdown",
   "metadata": {},
   "source": [
    "Running fmriprep takes quite some time (I included the hashtag to prevent you from accidentally running it - you can, of course, but it probably won't finish today). So I did this for you in advance. The results can be found in the path `/data/deriv` (which stands for 'derivates': data derived from the original data)"
   ]
  },
  {
   "cell_type": "markdown",
   "metadata": {},
   "source": [
    "One particularly nice feature of `fmriprep` is that it generates a nice html-file that allows you to easily inspect whether all preprocessing steps went right. For example, to inspect how preprocessing went for `sub-372`, you can click [here](/view/logs/sub-372.html)."
   ]
  },
  {
   "cell_type": "markdown",
   "metadata": {},
   "source": [
    "Have a look at the logs of preprocessing subject 372. What happened in each of the steps?"
   ]
  },
  {
   "cell_type": "code",
   "execution_count": null,
   "metadata": {},
   "outputs": [],
   "source": []
  }
 ],
 "metadata": {
  "kernelspec": {
   "display_name": "Python 3",
   "language": "python",
   "name": "python3"
  },
  "language_info": {
   "codemirror_mode": {
    "name": "ipython",
    "version": 3
   },
   "file_extension": ".py",
   "mimetype": "text/x-python",
   "name": "python",
   "nbconvert_exporter": "python",
   "pygments_lexer": "ipython3",
   "version": "3.6.7"
  }
 },
 "nbformat": 4,
 "nbformat_minor": 2
}
