{
 "cells": [
  {
   "cell_type": "markdown",
   "metadata": {},
   "source": [
    "### Brain Atlases\n",
    "\n",
    "A brain atlas is a labeling of a volume. Each voxel contains a label, instead of a gray value. These labels are numeric. Each number corresponds to a region of interest (ROI).\n",
    "\n",
    "Why ROIs?\n",
    "1. Explore the data (see signal in areas of interest plotted for each condition or plotted against other variables of interest)\n",
    "2. Limit number of statistical tests, controlling for Type I error\n",
    "3. Limit statistical tests to a region that is functionally defined.\n",
    "\n",
    "Some of these atlases are also explained here: https://fsl.fmrib.ox.ac.uk/fsl/fslwiki/Atlases.\n",
    "\n",
    "### Comparing Atlases\n",
    "\n",
    "A full list of nilearn atlases can be found here: http://nilearn.github.io/modules/reference.html#module-nilearn.datasets.  \n",
    "For questions about which brain atlas to use, a recent [Arslan et al., 2018 paper](https://www.ncbi.nlm.nih.gov/pubmed/28412442) may aid in your search.\n",
    "\n",
    "### Retrieve the Atlas\n",
    "\n",
    "Since we're using resting state fMRI data, it makes sense to use an atlas defined using resting state fMRI data.  \n",
    "For this tutorial, we'll be using a set of parcellations from [Craddock et al., 2012](https://www.ncbi.nlm.nih.gov/pubmed/21769991). This atlas was generated from resting state fMRI data from 41 healthy controls participants. "
   ]
  },
  {
   "cell_type": "code",
   "execution_count": null,
   "metadata": {},
   "outputs": [],
   "source": [
    "import numpy as np\n",
    "import nibabel as nib\n",
    "from nilearn import datasets\n",
    "from nilearn import image\n",
    "from nilearn import plotting\n",
    "import matplotlib.pyplot as plt\n",
    "%matplotlib inline"
   ]
  },
  {
   "cell_type": "code",
   "execution_count": null,
   "metadata": {},
   "outputs": [],
   "source": [
    "parcel_dir = '../resources/rois/' \n",
    "fetch_atlas = datasets.fetch_atlas_craddock_2012(parcel_dir)"
   ]
  },
  {
   "cell_type": "markdown",
   "metadata": {},
   "source": [
    "If we look at the dictionary keys for `fetch_atlas`, we can see that the Craddock atlas actually contains 5 different ROI atlases."
   ]
  },
  {
   "cell_type": "code",
   "execution_count": null,
   "metadata": {},
   "outputs": [],
   "source": [
    "fetch_atlas.keys()"
   ]
  },
  {
   "cell_type": "markdown",
   "metadata": {},
   "source": [
    "Based on the paper, the `tcorr_2level` atlas (based on temporal correlation) performed better than the other methods."
   ]
  },
  {
   "cell_type": "markdown",
   "metadata": {},
   "source": [
    "Each atlas also contains 44 different volumes which correspond to the level of clustering. "
   ]
  },
  {
   "cell_type": "code",
   "execution_count": null,
   "metadata": {},
   "outputs": [],
   "source": [
    "cc_atlas = image.load_img(fetch_atlas['tcorr_2level'])\n",
    "cc_atlas.shape"
   ]
  },
  {
   "cell_type": "markdown",
   "metadata": {},
   "source": [
    "Let's have a look at that atlas."
   ]
  },
  {
   "cell_type": "code",
   "execution_count": null,
   "metadata": {},
   "outputs": [],
   "source": [
    "#Index 19, contains the 200 ROI parcellation we want to use\n",
    "cc200 = cc_atlas.slicer[:, :, :, 19]\n",
    "plotting.plot_roi(cc200, cmap='Paired')\n",
    "print('Number of parcellations: ' + str(np.unique(cc200.get_data()).shape[0] -1))"
   ]
  },
  {
   "cell_type": "markdown",
   "metadata": {},
   "source": [
    "In order to apply the atlas to our fMRI image, we first need to make sure that they have the same dimensions."
   ]
  },
  {
   "cell_type": "code",
   "execution_count": null,
   "metadata": {},
   "outputs": [],
   "source": [
    "func_file = '../data/ds000030/derivatives/fmriprep/sub-10171/func/sub-10171_task-rest_bold_space-MNI152NLin2009cAsym_preproc.nii.gz'\n",
    "func_img = nib.load(func_file)\n",
    "func_img.shape[0:2]"
   ]
  },
  {
   "cell_type": "code",
   "execution_count": null,
   "metadata": {},
   "outputs": [],
   "source": [
    "cc200.get_data().shape[0:2]"
   ]
  },
  {
   "cell_type": "code",
   "execution_count": null,
   "metadata": {},
   "outputs": [],
   "source": [
    "mean_func_img = image.mean_img(func_file)"
   ]
  },
  {
   "cell_type": "markdown",
   "metadata": {},
   "source": [
    "The dimensions don't match so we'll resample the atlas to match."
   ]
  },
  {
   "cell_type": "code",
   "execution_count": null,
   "metadata": {},
   "outputs": [],
   "source": [
    "resampled_cc200 = image.resample_to_img(cc200, mean_func_img, interpolation = 'nearest')\n",
    "plotting.plot_roi(resampled_cc200, mean_func_img)"
   ]
  }
 ],
 "metadata": {
  "anaconda-cloud": {},
  "kernelspec": {
   "display_name": "Python 3",
   "language": "python",
   "name": "python3"
  },
  "language_info": {
   "codemirror_mode": {
    "name": "ipython",
    "version": 3
   },
   "file_extension": ".py",
   "mimetype": "text/x-python",
   "name": "python",
   "nbconvert_exporter": "python",
   "pygments_lexer": "ipython3",
   "version": "3.6.0"
  }
 },
 "nbformat": 4,
 "nbformat_minor": 1
}
